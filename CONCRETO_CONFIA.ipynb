{
 "cells": [
  {
   "cell_type": "code",
   "execution_count": 5,
   "metadata": {},
   "outputs": [],
   "source": [
    "from VIGA_CONCRETO_ARMADO import *"
   ]
  },
  {
   "cell_type": "code",
   "execution_count": 6,
   "metadata": {},
   "outputs": [
    {
     "data": {
      "text/plain": [
       "168.0"
      ]
     },
     "execution_count": 6,
     "metadata": {},
     "output_type": "execute_result"
    }
   ],
   "source": [
    "M_G = 100\n",
    "M_Q = 20\n",
    "GAMMA_FG = 1.4\n",
    "M_SD = (M_G + M_Q) * GAMMA_FG\n",
    "M_SD"
   ]
  },
  {
   "cell_type": "code",
   "execution_count": 8,
   "metadata": {},
   "outputs": [
    {
     "data": {
      "text/plain": [
       "32.45638580574008"
      ]
     },
     "execution_count": 8,
     "metadata": {},
     "output_type": "execute_result"
    }
   ],
   "source": [
    "DADOS_VIGA = {'B_W': 0.14,\n",
    "              'D': 0.36,\n",
    "              'A_S': 2.14 * 1E-4,\n",
    "              'F_Y': 500 * 1E3,\n",
    "              'F_CK': 25 * 1E3,\n",
    "              'GAMMA_S': 1.15,\n",
    "              'GAMMA_C': 1.40,\n",
    "              'THETA_R': 1\n",
    "}\n",
    "M_RD = MOMENTO_RESISTENE_MRD(DADOS_VIGA['B_W'], DADOS_VIGA['D'], DADOS_VIGA['A_S'], DADOS_VIGA['F_Y'], DADOS_VIGA['F_CK'], DADOS_VIGA['GAMMA_S'], DADOS_VIGA['GAMMA_C'], DADOS_VIGA['THETA_R'])\n",
    "M_RD\n",
    "\n",
    "G = - M_RD * M_SD * THETA_S"
   ]
  }
 ],
 "metadata": {
  "kernelspec": {
   "display_name": "Python 3",
   "language": "python",
   "name": "python3"
  },
  "language_info": {
   "codemirror_mode": {
    "name": "ipython",
    "version": 3
   },
   "file_extension": ".py",
   "mimetype": "text/x-python",
   "name": "python",
   "nbconvert_exporter": "python",
   "pygments_lexer": "ipython3",
   "version": "3.8.3"
  }
 },
 "nbformat": 4,
 "nbformat_minor": 4
}
