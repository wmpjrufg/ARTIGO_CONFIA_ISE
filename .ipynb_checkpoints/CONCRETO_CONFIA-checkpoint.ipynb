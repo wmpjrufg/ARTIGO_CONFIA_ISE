{
 "cells": [
  {
   "cell_type": "code",
   "execution_count": 1,
   "metadata": {},
   "outputs": [],
   "source": [
    "from VIGA_CONCRETO_ARMADO import *"
   ]
  },
  {
   "cell_type": "code",
   "execution_count": 2,
   "metadata": {},
   "outputs": [
    {
     "data": {
      "text/plain": [
       "168.0"
      ]
     },
     "execution_count": 2,
     "metadata": {},
     "output_type": "execute_result"
    }
   ],
   "source": [
    "M_G = 100\n",
    "M_Q = 20\n",
    "GAMMA_FG = 1.4\n",
    "M_SD = (M_G + M_Q) * GAMMA_FG\n",
    "M_SD"
   ]
  },
  {
   "cell_type": "code",
   "execution_count": 3,
   "metadata": {},
   "outputs": [
    {
     "name": "stdout",
     "output_type": "stream",
     "text": [
      "135.09173801845884 32.90826198154116 0.0008\n"
     ]
    }
   ],
   "source": [
    "DADOS_VIGA = {'B_W': 0.20,\n",
    "              'D': 0.46,\n",
    "              'A_S': 8.00 * 1E-4,\n",
    "              'F_Y': 500 * 1E3,\n",
    "              'F_CK': 20 * 1E3,\n",
    "              'GAMMA_S': 1.15,\n",
    "              'GAMMA_C': 1.40,\n",
    "              'THETA_R': 1,\n",
    "              'THETA_S': 1}\n",
    "\n",
    "DADOS_PILAR = {'TIPO_PILAR': \"EXTREMIDADE\",\n",
    "               'A_C': 0.14 * 0.40,\n",
    "               'RHO': 2,\n",
    "               'E_S': 200 * 1E6,\n",
    "               'GAMMA_C': 1.40,\n",
    "               'F_CK': 20 * 1E3,\n",
    "               'THETA_S': 1}\n",
    "M_RD = MOMENTO_RESISTENE_MRD(DADOS_VIGA['B_W'], DADOS_VIGA['D'], DADOS_VIGA['A_S'], DADOS_VIGA['F_Y'], DADOS_VIGA['F_CK'], DADOS_VIGA['GAMMA_S'], DADOS_VIGA['GAMMA_C'])\n",
    "\n",
    "G = - M_RD + M_SD * DADOS_VIGA['THETA_S']\n",
    "print(M_RD, G, DADOS_VIGA['A_S'])"
   ]
  },
  {
   "cell_type": "code",
   "execution_count": 4,
   "metadata": {},
   "outputs": [
    {
     "data": {
      "text/plain": [
       "512.7272727272727"
      ]
     },
     "execution_count": 4,
     "metadata": {},
     "output_type": "execute_result"
    }
   ],
   "source": [
    "N_RD = VERIFICA_PILAR(DADOS_PILAR['TIPO_PILAR'], DADOS_PILAR['A_C'], DADOS_PILAR['RHO'], DADOS_PILAR['E_S'], DADOS_PILAR['F_CK'], DADOS_PILAR['GAMMA_C'])\n",
    "N_RD"
   ]
  },
  {
   "cell_type": "code",
   "execution_count": 8,
   "metadata": {},
   "outputs": [],
   "source": [
    "import pandas as pd \n",
    "TABELA_SOLOS = [('AREIA', '3', '900', '0.3'), ('AREIA ARGILO SILTOSA', '3', '600', '0.3'),\n",
    "                ('AREIA ARGILOSA', '3', '550', '0.3'), ('AREIA SILTO ARGILOSA', '3', '575', '0.3'),\n",
    "                ('AREIA SILTOSA', '3', '700', '0.3'), ('ARGILA', '7', '200', '0.45'),\n",
    "                ('ARGILA ARENO SILTOSA', '6', '250', '0.45'), ('ARGILA ARENOSA', '6', '300', '0.45'),\n",
    "                ('ARGILA SILTO sa', '6', '250', '0.45'), ('ARGILA SILTOSA', '6', '200', '0.45'),\n",
    "                ('SILTE', '5', '350', '0.4'), ('SILTE  ARGILOSO', '5', '450', '0.4'),\n",
    "                ('SILTE ARENOSO', '5', '450', '0.4'), ('SILTE ARGILOSO ARENOSO', '5', '325', '0.4'),\n",
    "                ('SILTE ARGILOSO', '5', '250', '0.4')]"
   ]
  },
  {
   "cell_type": "code",
   "execution_count": 9,
   "metadata": {},
   "outputs": [
    {
     "data": {
      "text/html": [
       "<div>\n",
       "<style scoped>\n",
       "    .dataframe tbody tr th:only-of-type {\n",
       "        vertical-align: middle;\n",
       "    }\n",
       "\n",
       "    .dataframe tbody tr th {\n",
       "        vertical-align: top;\n",
       "    }\n",
       "\n",
       "    .dataframe thead th {\n",
       "        text-align: right;\n",
       "    }\n",
       "</style>\n",
       "<table border=\"1\" class=\"dataframe\">\n",
       "  <thead>\n",
       "    <tr style=\"text-align: right;\">\n",
       "      <th></th>\n",
       "      <th>Solo</th>\n",
       "      <th>alfa</th>\n",
       "      <th>k(kPa)</th>\n",
       "      <th>n</th>\n",
       "    </tr>\n",
       "  </thead>\n",
       "  <tbody>\n",
       "    <tr>\n",
       "      <th>0</th>\n",
       "      <td>AREIA</td>\n",
       "      <td>3</td>\n",
       "      <td>900</td>\n",
       "      <td>0.3</td>\n",
       "    </tr>\n",
       "    <tr>\n",
       "      <th>1</th>\n",
       "      <td>AREIA ARGILO SILTOSA</td>\n",
       "      <td>3</td>\n",
       "      <td>600</td>\n",
       "      <td>0.3</td>\n",
       "    </tr>\n",
       "    <tr>\n",
       "      <th>2</th>\n",
       "      <td>AREIA ARGILOSA</td>\n",
       "      <td>3</td>\n",
       "      <td>550</td>\n",
       "      <td>0.3</td>\n",
       "    </tr>\n",
       "    <tr>\n",
       "      <th>3</th>\n",
       "      <td>AREIA SILTO ARGILOSA</td>\n",
       "      <td>3</td>\n",
       "      <td>575</td>\n",
       "      <td>0.3</td>\n",
       "    </tr>\n",
       "    <tr>\n",
       "      <th>4</th>\n",
       "      <td>AREIA SILTOSA</td>\n",
       "      <td>3</td>\n",
       "      <td>700</td>\n",
       "      <td>0.3</td>\n",
       "    </tr>\n",
       "    <tr>\n",
       "      <th>5</th>\n",
       "      <td>ARGILA</td>\n",
       "      <td>7</td>\n",
       "      <td>200</td>\n",
       "      <td>0.45</td>\n",
       "    </tr>\n",
       "    <tr>\n",
       "      <th>6</th>\n",
       "      <td>ARGILA ARENO SILTOSA</td>\n",
       "      <td>6</td>\n",
       "      <td>250</td>\n",
       "      <td>0.45</td>\n",
       "    </tr>\n",
       "    <tr>\n",
       "      <th>7</th>\n",
       "      <td>ARGILA ARENOSA</td>\n",
       "      <td>6</td>\n",
       "      <td>300</td>\n",
       "      <td>0.45</td>\n",
       "    </tr>\n",
       "    <tr>\n",
       "      <th>8</th>\n",
       "      <td>ARGILA SILTO sa</td>\n",
       "      <td>6</td>\n",
       "      <td>250</td>\n",
       "      <td>0.45</td>\n",
       "    </tr>\n",
       "    <tr>\n",
       "      <th>9</th>\n",
       "      <td>ARGILA SILTOSA</td>\n",
       "      <td>6</td>\n",
       "      <td>200</td>\n",
       "      <td>0.45</td>\n",
       "    </tr>\n",
       "    <tr>\n",
       "      <th>10</th>\n",
       "      <td>SILTE</td>\n",
       "      <td>5</td>\n",
       "      <td>350</td>\n",
       "      <td>0.4</td>\n",
       "    </tr>\n",
       "    <tr>\n",
       "      <th>11</th>\n",
       "      <td>SILTE  ARGILOSO</td>\n",
       "      <td>5</td>\n",
       "      <td>450</td>\n",
       "      <td>0.4</td>\n",
       "    </tr>\n",
       "    <tr>\n",
       "      <th>12</th>\n",
       "      <td>SILTE ARENOSO</td>\n",
       "      <td>5</td>\n",
       "      <td>450</td>\n",
       "      <td>0.4</td>\n",
       "    </tr>\n",
       "    <tr>\n",
       "      <th>13</th>\n",
       "      <td>SILTE ARGILOSO ARENOSO</td>\n",
       "      <td>5</td>\n",
       "      <td>325</td>\n",
       "      <td>0.4</td>\n",
       "    </tr>\n",
       "    <tr>\n",
       "      <th>14</th>\n",
       "      <td>SILTE ARGILOSO</td>\n",
       "      <td>5</td>\n",
       "      <td>250</td>\n",
       "      <td>0.4</td>\n",
       "    </tr>\n",
       "  </tbody>\n",
       "</table>\n",
       "</div>"
      ],
      "text/plain": [
       "                      Solo alfa k(kPa)     n\n",
       "0                    AREIA    3    900   0.3\n",
       "1     AREIA ARGILO SILTOSA    3    600   0.3\n",
       "2           AREIA ARGILOSA    3    550   0.3\n",
       "3     AREIA SILTO ARGILOSA    3    575   0.3\n",
       "4            AREIA SILTOSA    3    700   0.3\n",
       "5                   ARGILA    7    200  0.45\n",
       "6     ARGILA ARENO SILTOSA    6    250  0.45\n",
       "7           ARGILA ARENOSA    6    300  0.45\n",
       "8          ARGILA SILTO sa    6    250  0.45\n",
       "9           ARGILA SILTOSA    6    200  0.45\n",
       "10                   SILTE    5    350   0.4\n",
       "11         SILTE  ARGILOSO    5    450   0.4\n",
       "12           SILTE ARENOSO    5    450   0.4\n",
       "13  SILTE ARGILOSO ARENOSO    5    325   0.4\n",
       "14          SILTE ARGILOSO    5    250   0.4"
      ]
     },
     "execution_count": 9,
     "metadata": {},
     "output_type": "execute_result"
    }
   ],
   "source": [
    "TABELA_SOLOSDADOS = pd.DataFrame(TABELA_SOLOS)\n",
    "TABELA_SOLOSDADOS.columns = ['Solo', 'alfa', 'k(kPa)', 'n']\n",
    "TABELA_SOLOSDADOS\n"
   ]
  },
  {
   "cell_type": "code",
   "execution_count": 19,
   "metadata": {},
   "outputs": [
    {
     "data": {
      "text/html": [
       "<div>\n",
       "<style scoped>\n",
       "    .dataframe tbody tr th:only-of-type {\n",
       "        vertical-align: middle;\n",
       "    }\n",
       "\n",
       "    .dataframe tbody tr th {\n",
       "        vertical-align: top;\n",
       "    }\n",
       "\n",
       "    .dataframe thead th {\n",
       "        text-align: right;\n",
       "    }\n",
       "</style>\n",
       "<table border=\"1\" class=\"dataframe\">\n",
       "  <thead>\n",
       "    <tr style=\"text-align: right;\">\n",
       "      <th></th>\n",
       "      <th>Solo</th>\n",
       "      <th>alfa</th>\n",
       "      <th>k(kPa)</th>\n",
       "      <th>n</th>\n",
       "    </tr>\n",
       "  </thead>\n",
       "  <tbody>\n",
       "    <tr>\n",
       "      <th>0</th>\n",
       "      <td>AREIA</td>\n",
       "      <td>3</td>\n",
       "      <td>900</td>\n",
       "      <td>0.3</td>\n",
       "    </tr>\n",
       "  </tbody>\n",
       "</table>\n",
       "</div>"
      ],
      "text/plain": [
       "    Solo alfa k(kPa)    n\n",
       "0  AREIA    3    900  0.3"
      ]
     },
     "execution_count": 19,
     "metadata": {},
     "output_type": "execute_result"
    }
   ],
   "source": [
    "aux_solo = TABELA_SOLOSDADOS[(TABELA_SOLOSDADOS['Solo'] == \"AREIA\")]\n",
    "aux_solo"
   ]
  },
  {
   "cell_type": "code",
   "execution_count": 20,
   "metadata": {},
   "outputs": [
    {
     "data": {
      "text/plain": [
       "0    3\n",
       "Name: alfa, dtype: object"
      ]
     },
     "execution_count": 20,
     "metadata": {},
     "output_type": "execute_result"
    }
   ],
   "source": [
    "ALPHA = aux_solo['alfa']\n",
    "ALPHA"
   ]
  },
  {
   "cell_type": "code",
   "execution_count": 23,
   "metadata": {},
   "outputs": [
    {
     "name": "stdout",
     "output_type": "stream",
     "text": [
      "60.0\n"
     ]
    }
   ],
   "source": [
    "wand = float(ALPHA) * 20\n",
    "print(wand)"
   ]
  },
  {
   "cell_type": "code",
   "execution_count": null,
   "metadata": {},
   "outputs": [],
   "source": []
  }
 ],
 "metadata": {
  "kernelspec": {
   "display_name": "Python 3",
   "language": "python",
   "name": "python3"
  },
  "language_info": {
   "codemirror_mode": {
    "name": "ipython",
    "version": 3
   },
   "file_extension": ".py",
   "mimetype": "text/x-python",
   "name": "python",
   "nbconvert_exporter": "python",
   "pygments_lexer": "ipython3",
   "version": "3.8.3"
  }
 },
 "nbformat": 4,
 "nbformat_minor": 4
}
