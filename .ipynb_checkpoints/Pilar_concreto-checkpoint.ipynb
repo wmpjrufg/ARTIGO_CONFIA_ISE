{
 "cells": [
  {
   "cell_type": "code",
   "execution_count": 35,
   "metadata": {
    "colab": {
     "base_uri": "https://localhost:8080/"
    },
    "executionInfo": {
     "elapsed": 276,
     "status": "ok",
     "timestamp": 1634407852539,
     "user": {
      "displayName": "Matheus Moraes",
      "photoUrl": "https://lh3.googleusercontent.com/a-/AOh14GgEWr6UbLFLLgZuw5VXV4iQYhjecqNTuTt2oDCVtQ=s64",
      "userId": "15731656923762030121"
     },
     "user_tz": 180
    },
    "id": "4c5ZqvZjLsa4",
    "outputId": "21da12d0-4a4c-4ec3-e667-61f7df8764e0"
   },
   "outputs": [
    {
     "name": "stdout",
     "output_type": "stream",
     "text": [
      "SIGMA_S_E = 420000.0\n",
      "ALPHA = 2.2\n",
      "Área de concreto: 0.08661417322834646 m²\n"
     ]
    }
   ],
   "source": [
    "################################################################################\n",
    "# UNIVERSIDADE FEDERAL DE CATALÃO (UFCAT)\n",
    "# WANDERLEI MALAQUIAS PEREIRA JUNIOR,                 ENG. CIVIL / PROF. (UFCAT)\n",
    "# ANDRÉ TEÓFILO BECK,                                   ENG. MEC. / PROF. (EESC)\n",
    "# DANIEL LIMA ARAÚJO,                                   ENG. CIVIL / PROF. (UFG)\n",
    "# MAURO,                                               ENG. CIVIL / PROF. (UFPA)\n",
    "# MATHEUS HENRIQUE MORATO DE MORAES,                          ENG. CIVIL (UFCAT)\n",
    "################################################################################\n",
    "\n",
    "################################################################################\n",
    "# DESCRIÇÃO ALGORITMO:\n",
    "# BIBLIOTECA DE VERIFICAÇÃO DE ESTADO LIMITE EM PILARES DECONCRETO ARMADO DESEN-\n",
    "# VOLVIDA PELO GRUPO DE PESQUISAS E ESTUDOS EM ENGENHARIA (GPEE)\n",
    "################################################################################\n",
    "\n",
    "################################################################################\n",
    "# BIBLIOTECAS PYTHON\n",
    "import numpy as np\n",
    "\n",
    "#TAXA DE ARMADURA DO PILAR\n",
    "RHO=2/100\n",
    "# TENSÃO DE ESCOAMENTO DO AÇO\n",
    "FYWK=500*10**3\n",
    "# MODULO DE ELASTICIDADE DO AÇO\n",
    "ES=210*10**6\n",
    "# TENSÃO DE ESCOAMENTO DO AÇO A 0.2%\n",
    "SGIMA_S_E=0.2/100*ES\n",
    "print('SIGMA_S_E =',SGIMA_S_E)\n",
    "\n",
    "# ESFORÇO EXISTENTE NO PILAR\n",
    "N_K=10**3\n",
    "\n",
    "# RESISTENCIA CARACTERISTICA A COMPRESSÃO DO CONCRETO A 28 DIAS\n",
    "FCK=28*10**3\n",
    "FCD=FCK/1.4\n",
    "\n",
    "\n",
    "# Tipo de pilar (Intemediários, Extremidade, Canto)\n",
    "TIPO_PIL=\"Extremidade\"\n",
    "\n",
    "#DIFINIÇÃO DO PARAMETRO ALPHA\n",
    "if TIPO_PIL=='Canto':\n",
    "  ALPHA=2.5\n",
    "elif TIPO_PIL=='Extremidade':\n",
    "  ALPHA=2.2\n",
    "elif TIPO_PIL=='Intemediários':\n",
    "  ALPHA=1.8\n",
    "print('ALPHA =',ALPHA)\n",
    "N_D=ALPHA*N_K\n",
    "\n",
    "#CALCULO DA AREA DE CONCRETO \n",
    "A_C=N_D/(0.85*FCD+RHO*SGIMA_S_E)\n",
    "\n",
    "print(\"Área de concreto:\", A_C, \"m²\")\n",
    "\n",
    "\n"
   ]
  },
  {
   "cell_type": "code",
   "execution_count": null,
   "metadata": {
    "id": "8mx3K8mOQsU6"
   },
   "outputs": [],
   "source": [
    ""
   ]
  }
 ],
 "metadata": {
  "colab": {
   "authorship_tag": "ABX9TyPaKz0hjZ/12FC9heQKOM7/",
   "name": "Pilar_concreto.ipynb",
   "provenance": []
  },
  "kernelspec": {
   "display_name": "Python 3",
   "name": "python3"
  },
  "language_info": {
   "name": "python"
  }
 },
 "nbformat": 4,
 "nbformat_minor": 0
}
