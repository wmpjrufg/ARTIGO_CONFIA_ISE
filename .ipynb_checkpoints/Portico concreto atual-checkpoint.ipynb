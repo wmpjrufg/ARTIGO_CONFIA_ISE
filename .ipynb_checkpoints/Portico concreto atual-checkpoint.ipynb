{
 "cells": [
  {
   "cell_type": "code",
   "execution_count": 12,
   "metadata": {
    "colab": {
     "base_uri": "https://localhost:8080/"
    },
    "executionInfo": {
     "elapsed": 7484,
     "status": "ok",
     "timestamp": 1634576085383,
     "user": {
      "displayName": "Matheus Moraes",
      "photoUrl": "https://lh3.googleusercontent.com/a-/AOh14GgEWr6UbLFLLgZuw5VXV4iQYhjecqNTuTt2oDCVtQ=s64",
      "userId": "15731656923762030121"
     },
     "user_tz": 180
    },
    "id": "I50Hm2MDBDVG",
    "outputId": "b2c4e622-bf52-4b52-9b62-be84f9807abd"
   },
   "outputs": [
    {
     "name": "stdout",
     "output_type": "stream",
     "text": [
      "Looking in indexes: https://test.pypi.org/simple/\n",
      "Requirement already satisfied: FINITO-FEM-TOOLBOX in c:\\programdata\\anaconda3\\lib\\site-packages (0.0.0)\n",
      "Requirement already satisfied: pyDOE in c:\\programdata\\anaconda3\\lib\\site-packages (0.3.8)\n",
      "Requirement already satisfied: scipy in c:\\programdata\\anaconda3\\lib\\site-packages (from pyDOE) (1.5.0)\n",
      "Requirement already satisfied: numpy in c:\\programdata\\anaconda3\\lib\\site-packages (from pyDOE) (1.18.5)\n",
      "Requirement already up-to-date: seaborn in c:\\programdata\\anaconda3\\lib\\site-packages (0.11.2)\n",
      "Requirement already satisfied, skipping upgrade: matplotlib>=2.2 in c:\\programdata\\anaconda3\\lib\\site-packages (from seaborn) (3.2.2)\n",
      "Requirement already satisfied, skipping upgrade: numpy>=1.15 in c:\\programdata\\anaconda3\\lib\\site-packages (from seaborn) (1.18.5)\n",
      "Requirement already satisfied, skipping upgrade: scipy>=1.0 in c:\\programdata\\anaconda3\\lib\\site-packages (from seaborn) (1.5.0)\n",
      "Requirement already satisfied, skipping upgrade: pandas>=0.23 in c:\\programdata\\anaconda3\\lib\\site-packages (from seaborn) (1.0.5)\n",
      "Requirement already satisfied, skipping upgrade: kiwisolver>=1.0.1 in c:\\programdata\\anaconda3\\lib\\site-packages (from matplotlib>=2.2->seaborn) (1.2.0)\n",
      "Requirement already satisfied, skipping upgrade: pyparsing!=2.0.4,!=2.1.2,!=2.1.6,>=2.0.1 in c:\\programdata\\anaconda3\\lib\\site-packages (from matplotlib>=2.2->seaborn) (2.4.7)\n",
      "Requirement already satisfied, skipping upgrade: cycler>=0.10 in c:\\programdata\\anaconda3\\lib\\site-packages (from matplotlib>=2.2->seaborn) (0.10.0)\n",
      "Requirement already satisfied, skipping upgrade: python-dateutil>=2.1 in c:\\programdata\\anaconda3\\lib\\site-packages (from matplotlib>=2.2->seaborn) (2.8.1)\n",
      "Requirement already satisfied, skipping upgrade: pytz>=2017.2 in c:\\programdata\\anaconda3\\lib\\site-packages (from pandas>=0.23->seaborn) (2020.1)\n",
      "Requirement already satisfied, skipping upgrade: six in c:\\programdata\\anaconda3\\lib\\site-packages (from cycler>=0.10->matplotlib>=2.2->seaborn) (1.15.0)\n"
     ]
    }
   ],
   "source": [
    "!pip install -i https://test.pypi.org/simple/ FINITO-FEM-TOOLBOX\n",
    "!pip install pyDOE\n",
    "!pip install -U seaborn\n",
    "import numpy as np\n",
    "from FINITO_FEM_TOOLBOX import MEF1D\n",
    "from RASD_TOOLBOX import *"
   ]
  },
  {
   "cell_type": "code",
   "execution_count": null,
   "metadata": {},
   "outputs": [],
   "source": [
    "X_0 = ['NORMAL', 200E9, 12E9] # G      \n",
    "X_1 = ['NORMAL', 250E6, 15E6] # Q \n",
    "X_2 = ['NORMAL', 200E9, 12E9] # F_CK  \n",
    "X_3 = ['NORMAL', 200E9, 12E9] # F_Y     "
   ]
  },
  {
   "cell_type": "code",
   "execution_count": 2,
   "metadata": {
    "executionInfo": {
     "elapsed": 306,
     "status": "ok",
     "timestamp": 1634578522224,
     "user": {
      "displayName": "Matheus Moraes",
      "photoUrl": "https://lh3.googleusercontent.com/a-/AOh14GgEWr6UbLFLLgZuw5VXV4iQYhjecqNTuTt2oDCVtQ=s64",
      "userId": "15731656923762030121"
     },
     "user_tz": 180
    },
    "id": "IInm0auOI5H2"
   },
   "outputs": [],
   "source": [
    "SETUP = {'N_REP': len(POP),\n",
    "        'POP': POP,\n",
    "        'N_G': 15,\n",
    "        'D': 10 , #variables\n",
    "        'VARS': [X_0, X_1, X_2, X_3],\n",
    "        'MODEL': 'MCS'}"
   ]
  },
  {
   "cell_type": "code",
   "execution_count": 21,
   "metadata": {
    "executionInfo": {
     "elapsed": 712,
     "status": "ok",
     "timestamp": 1634578417910,
     "user": {
      "displayName": "Matheus Moraes",
      "photoUrl": "https://lh3.googleusercontent.com/a-/AOh14GgEWr6UbLFLLgZuw5VXV4iQYhjecqNTuTt2oDCVtQ=s64",
      "userId": "15731656923762030121"
     },
     "user_tz": 180
    },
    "id": "KPuyyuinD2Q4"
   },
   "outputs": [],
   "source": [
    "def ANALISE_MATRICIAL(DADOS):\n",
    "    F_I = DADOS['CARGA_NODAL']\n",
    "    F_II = 2 * DADOS['CARGA_NODAL']\n",
    "    E_C = DADOS['E_C']\n",
    "    A_V = DADOS['A_V']\n",
    "    A_P = DADOS['A_P']\n",
    "    I_V = DADOS['I_V']\n",
    "    I_P = DADOS['I_P']  \n",
    "    FRAME_00 = {\"TYPE_ELEMENT\": 0,\n",
    "                \"TYPE_SOLUTION\": 0,\n",
    "                \"N_NODES\": 37,\n",
    "                \"N_MATERIALS\": 1,\n",
    "                \"N_SECTIONS\": 2,\n",
    "                \"N_ELEMENTS\": 40,\n",
    "                \"N_DOFPRESCRIPTIONS\": 6,\n",
    "                \"N_DOFLOADED\": 35,\n",
    "                \"N_DOFSPRINGS\": 0,\n",
    "                \"COORDINATES\": \n",
    "                np.array([\n",
    "                [0.00,0.00],\n",
    "                [4.50,0.00],\n",
    "                [0.00,3.00],\n",
    "                [0.75,3.00],\n",
    "                [1.50,3.00],\n",
    "                [2.25,3.00],\n",
    "                [3.00,3.00],\n",
    "                [3.75,3.00],\n",
    "                [4.50,3.00],\n",
    "                [0.00,6.00],\n",
    "                [0.75,6.00],\n",
    "                [1.50,6.00],\n",
    "                [2.25,6.00],\n",
    "                [3.00,6.00],\n",
    "                [3.75,6.00],\n",
    "                [4.50,6.00],\n",
    "                [0.00,9.00],\n",
    "                [0.75,9.00],\n",
    "                [1.50,9.00],\n",
    "                [2.25,9.00],\n",
    "                [3.00,9.00],\n",
    "                [3.75,9.00],\n",
    "                [4.50,9.00],\n",
    "                [0.00,12.00],\n",
    "                [0.75,12.00],\n",
    "                [1.50,12.00],\n",
    "                [2.25,12.00],\n",
    "                [3.00,12.00],\n",
    "                [3.75,12.00],\n",
    "                [4.50,12.00],\n",
    "                [0.00,15.00],\n",
    "                [0.75,15.00],\n",
    "                [1.50,15.00],\n",
    "                [2.25,15.00],\n",
    "                [3.00,15.00],\n",
    "                [3.75,15.00],\n",
    "                [4.50,15.00]]),\n",
    "\n",
    "                \"ELEMENTS\": #NODE 1,NODE 2,MATERIAL ID,SECTION ID,HINGE ID NODE 1,HINGE ID NODE 2\n",
    "                np.array([\n",
    "                [0,2,0,1,0,0],\n",
    "                [2,3,0,0,0,0],\n",
    "                [3,4,0,0,0,0],\n",
    "                [4,5,0,0,0,0],\n",
    "                [5,6,0,0,0,0],\n",
    "                [6,7,0,0,0,0],\n",
    "                [7,8,0,0,0,0],\n",
    "                [8,1,0,1,0,0],\n",
    "                [2,9,0,1,0,0],\n",
    "                [9,10,0,0,0,0],\n",
    "                [10,11,0,0,0,0],\n",
    "                [11,12,0,0,0,0],\n",
    "                [12,13,0,0,0,0],\n",
    "                [13,14,0,0,0,0],\n",
    "                [14,15,0,0,0,0],\n",
    "                [15,8,0,1,0,0],\n",
    "                [9,16,0,1,0,0],\n",
    "                [16,17,0,0,0,0],\n",
    "                [17,18,0,0,0,0],\n",
    "                [18,19,0,0,0,0],\n",
    "                [19,20,0,0,0,0],\n",
    "                [20,21,0,0,0,0],\n",
    "                [21,22,0,0,0,0],\n",
    "                [22,15,0,1,0,0],\n",
    "                [16,23,0,1,0,0],\n",
    "                [23,24,0,0,0,0],\n",
    "                [24,25,0,0,0,0],\n",
    "                [25,26,0,0,0,0],\n",
    "                [26,27,0,0,0,0],\n",
    "                [27,28,0,0,0,0],\n",
    "                [28,29,0,0,0,0],\n",
    "                [29,22,0,1,0,0],\n",
    "                [23,30,0,1,0,0],\n",
    "                [30,31,0,0,0,0],\n",
    "                [31,32,0,0,0,0],\n",
    "                [32,33,0,0,0,0],\n",
    "                [33,34,0,0,0,0],\n",
    "                [34,35,0,0,0,0],\n",
    "                [35,36,0,0,0,0],\n",
    "                [36,29,0,1,0,0]]),\n",
    "\n",
    "                \"MATERIALS\": #YOUNG, POISSON,DENSITY, THERMAL COEFFICIENT\n",
    "                np.array([[E_C, 1, 1, 1]]),\n",
    "                \n",
    "                \"SECTIONS\": #AREA, INERTIA 1, INERTIA 2, X GC,Y GC\n",
    "                \n",
    "                np.array([[A_V , I_V, I_V, 0, 0], [A_P , I_P, I_P, 0, 0]]),\n",
    "                \"PRESCRIBED DISPLACEMENTS\": #NODE,DIRECTION(X=0,Y=1,Z=2),VALUE\n",
    "                np.array([\n",
    "                [0,0,0],\n",
    "                [0,1,0],\n",
    "                [0,2,0],\n",
    "                [1,0,0],\n",
    "                [1,1,0],\n",
    "                [1,2,0]]),\n",
    "                \n",
    "                \"ELEMENT LOADS\": None,\n",
    "                \n",
    "                \"NODAL LOADS\":  #NODE,DIRECTION(X=0,Y=1,Z=2),VALUE\n",
    "                np.array([\n",
    "                [2,1,-F_I,0],\n",
    "                [3,1,-F_II,0],\n",
    "                [4,1,-F_II,0],\n",
    "                [5,1,-F_II,0],\n",
    "                [6,1,-F_II,0],\n",
    "                [7,1,-F_II,0],\n",
    "                [8,1,-F_I,0],\n",
    "                [9,1,-F_I,0],\n",
    "                [10,1,-F_II,0],\n",
    "                [11,1,-F_II,0],\n",
    "                [12,1,-F_II,0],\n",
    "                [13,1,-F_II,0],\n",
    "                [14,1,-F_II,0],\n",
    "                [15,1,-F_I,0],\n",
    "                [16,1,-F_I,0],\n",
    "                [17,1,-F_II,0],\n",
    "                [18,1,-F_II,0],\n",
    "                [19,1,-F_II,0],\n",
    "                [20,1,-F_II,0],\n",
    "                [21,1,-F_II,0],\n",
    "                [22,1,-F_I,0],\n",
    "                [23,1,-F_I,0],\n",
    "                [24,1,-F_II,0],\n",
    "                [25,1,-F_II,0],\n",
    "                [26,1,-F_II,0],\n",
    "                [27,1,-F_II,0],\n",
    "                [28,1,-F_II,0],\n",
    "                [29,1,-F_I,0],\n",
    "                [30,1,-F_I,0],\n",
    "                [31,1,-F_II,0],\n",
    "                [32,1,-F_II,0],\n",
    "                [33,1,-F_II,0],\n",
    "                [34,1,-F_II,0],\n",
    "                [35,1,-F_II,0],\n",
    "                [36,1,-F_I,0]]),\n",
    "            \n",
    "                \"SPRINGS\": None}    \n",
    "\n",
    "    FRAME_00_RESULTS = MEF1D(DICTIONARY = FRAME_00)\n",
    "    return FRAME_00_RESULTS"
   ]
  },
  {
   "cell_type": "code",
   "execution_count": 36,
   "metadata": {},
   "outputs": [
    {
     "name": "stdout",
     "output_type": "stream",
     "text": [
      "13.83104113474395 25.000000000004462 -0.0010437922968460221\n"
     ]
    }
   ],
   "source": [
    "DADOS = {'CARGA_NODAL': 5, 'E_C': 30.0 * 1E6, 'A_V': 0.0560, 'I_V': 0.000747, 'A_P': 0.0800, 'I_P': 0.001067}\n",
    "FRAME_00_RESULTS = ANALISE_MATRICIAL(DADOS)\n",
    "\n",
    "# Resultados Viga V01\n",
    "M_GK = max(FRAME_00_RESULTS[3]['M'])\n",
    "V_GK = max(FRAME_00_RESULTS[1]['V'])\n",
    "DELTA_GK = FRAME_00_RESULTS[3]['UY'][10]\n",
    "print(M_GK, V_GK, DELTA_GK)"
   ]
  }
 ],
 "metadata": {
  "colab": {
   "authorship_tag": "ABX9TyOCAY7KR1316jIB9t4mnGyL",
   "collapsed_sections": [],
   "name": "Portico concreto atual.ipynb",
   "provenance": [
    {
     "file_id": "1AOMRNqNCzBtgBXQYU0hYS7QqKuVhcmno",
     "timestamp": 1634576049333
    }
   ]
  },
  "kernelspec": {
   "display_name": "Python 3",
   "language": "python",
   "name": "python3"
  },
  "language_info": {
   "codemirror_mode": {
    "name": "ipython",
    "version": 3
   },
   "file_extension": ".py",
   "mimetype": "text/x-python",
   "name": "python",
   "nbconvert_exporter": "python",
   "pygments_lexer": "ipython3",
   "version": "3.8.3"
  }
 },
 "nbformat": 4,
 "nbformat_minor": 1
}
